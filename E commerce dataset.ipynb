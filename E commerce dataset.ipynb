{
 "cells": [
  {
   "cell_type": "code",
   "execution_count": 40,
   "id": "c44f7db6",
   "metadata": {},
   "outputs": [],
   "source": [
    "import pandas as pd\n",
    "import matplotlib.pyplot as plt\n",
    "import seaborn as sns"
   ]
  },
  {
   "cell_type": "code",
   "execution_count": 4,
   "id": "e6519f14",
   "metadata": {},
   "outputs": [],
   "source": [
    "df = pd.read_csv('E-commerece_sales_data.csv')"
   ]
  },
  {
   "cell_type": "code",
   "execution_count": 6,
   "id": "e35fd1d6",
   "metadata": {},
   "outputs": [
    {
     "name": "stdout",
     "output_type": "stream",
     "text": [
      "           user id  Unnamed: 4\n",
      "count  3002.000000         0.0\n",
      "mean   1498.505330         NaN\n",
      "std     866.737871         NaN\n",
      "min       2.000000         NaN\n",
      "25%     748.250000         NaN\n",
      "50%    1498.500000         NaN\n",
      "75%    2248.750000         NaN\n",
      "max    2999.000000         NaN\n"
     ]
    }
   ],
   "source": [
    "print(df.describe())"
   ]
  },
  {
   "cell_type": "code",
   "execution_count": 7,
   "id": "33c36abb",
   "metadata": {},
   "outputs": [
    {
     "data": {
      "text/plain": [
       "user id              297\n",
       "product id           297\n",
       "Interaction type     423\n",
       "Time stamp           295\n",
       "Unnamed: 4          3299\n",
       "dtype: int64"
      ]
     },
     "execution_count": 7,
     "metadata": {},
     "output_type": "execute_result"
    }
   ],
   "source": [
    "df.isnull().sum()"
   ]
  },
  {
   "cell_type": "code",
   "execution_count": 14,
   "id": "f046a2ec",
   "metadata": {},
   "outputs": [],
   "source": [
    "if 'Unnamed: 4' in df.columns:\n",
    "    df = df.drop(columns=['Unnamed: 4'])\n",
    "\n",
    "df = df.dropna(subset=['user id', 'product id', 'Time stamp'])\n",
    "\n",
    "df['Interaction type'] = df['Interaction type'].fillna('Unknown') "
   ]
  },
  {
   "cell_type": "code",
   "execution_count": 15,
   "id": "50fe5c6c",
   "metadata": {},
   "outputs": [],
   "source": [
    "df['Time stamp'] = pd.to_datetime(df['Time stamp'])"
   ]
  },
  {
   "cell_type": "code",
   "execution_count": 16,
   "id": "ae2f6a75",
   "metadata": {},
   "outputs": [],
   "source": [
    "df = df.drop_duplicates()"
   ]
  },
  {
   "cell_type": "code",
   "execution_count": 18,
   "id": "af2de317",
   "metadata": {},
   "outputs": [
    {
     "name": "stdout",
     "output_type": "stream",
     "text": [
      "<class 'pandas.core.frame.DataFrame'>\n",
      "Int64Index: 2997 entries, 2 to 2998\n",
      "Data columns (total 4 columns):\n",
      " #   Column            Non-Null Count  Dtype         \n",
      "---  ------            --------------  -----         \n",
      " 0   user id           2997 non-null   float64       \n",
      " 1   product id        2997 non-null   object        \n",
      " 2   Interaction type  2997 non-null   object        \n",
      " 3   Time stamp        2997 non-null   datetime64[ns]\n",
      "dtypes: datetime64[ns](1), float64(1), object(2)\n",
      "memory usage: 117.1+ KB\n",
      "None\n"
     ]
    }
   ],
   "source": [
    "print(df.info())"
   ]
  },
  {
   "cell_type": "code",
   "execution_count": 19,
   "id": "2b61352f",
   "metadata": {},
   "outputs": [
    {
     "data": {
      "text/plain": [
       "user id             0\n",
       "product id          0\n",
       "Interaction type    0\n",
       "Time stamp          0\n",
       "dtype: int64"
      ]
     },
     "execution_count": 19,
     "metadata": {},
     "output_type": "execute_result"
    }
   ],
   "source": [
    "df.isnull().sum()"
   ]
  },
  {
   "cell_type": "code",
   "execution_count": 38,
   "id": "27710990",
   "metadata": {},
   "outputs": [],
   "source": [
    "user_interaction_counts = df['user id'].value_counts()\n",
    "product_interaction_counts = df['product id'].value_counts()\n",
    "\n",
    "# Define thresholds\n",
    "user_threshold_lower = user_interaction_counts.quantile(0.01)\n",
    "user_threshold_upper = user_interaction_counts.quantile(0.99)\n",
    "product_threshold_lower = product_interaction_counts.quantile(0.01)\n",
    "product_threshold_upper = product_interaction_counts.quantile(0.99)\n",
    "\n",
    "# Filter out users and products outside the thresholds\n",
    "valid_users = user_interaction_counts[(user_interaction_counts >= user_threshold_lower) & \n",
    "                                      (user_interaction_counts <= user_threshold_upper)].index\n",
    "valid_products = product_interaction_counts[(product_interaction_counts >= product_threshold_lower) & \n",
    "                                            (product_interaction_counts <= product_threshold_upper)].index\n",
    "\n",
    "df = df[df['user id'].isin(valid_users) & df['product id'].isin(valid_products)]"
   ]
  },
  {
   "cell_type": "code",
   "execution_count": 30,
   "id": "54a0091e",
   "metadata": {},
   "outputs": [
    {
     "name": "stdout",
     "output_type": "stream",
     "text": [
      "\n",
      "Total Interactions per Product:\n",
      "2c55cae269aebf53838484b0d7dd931a    1\n",
      "caefd83223f01717e3ad125de7404bb0    1\n",
      "b9b85de6e38cb0153e0a3b2923936153    1\n",
      "e2cbdaa6b1ee6a738542f730368dc01b    1\n",
      "491ca5b2eb12adcdae7e15757036a406    1\n",
      "                                   ..\n",
      "ec2a6bfae6b2c11ed5ef3a1b1b8012f4    1\n",
      "6da4bb2fc8c0c4a81c90dafe491cb84e    1\n",
      "d92c10e1df8112236639658d0c023cac    1\n",
      "8f01e7976aae046dc48ff5092428a0ff    1\n",
      "a2c6dd69f022a658c5bcc2b3b52970f2    1\n",
      "Name: product id, Length: 2997, dtype: int64\n"
     ]
    }
   ],
   "source": [
    "total_interactions_per_product = df['product id'].value_counts()\n",
    "print(\"\\nTotal Interactions per Product:\")\n",
    "print(total_interactions_per_product)\n"
   ]
  },
  {
   "cell_type": "code",
   "execution_count": 31,
   "id": "d7663e49",
   "metadata": {},
   "outputs": [
    {
     "name": "stdout",
     "output_type": "stream",
     "text": [
      "\n",
      "Interactions Over Time:\n",
      "2022-12     72\n",
      "2023-01    335\n",
      "2023-02    163\n",
      "2023-03    165\n",
      "2023-04    161\n",
      "2023-05    165\n",
      "2023-06    160\n",
      "2023-07    146\n",
      "2023-08    145\n",
      "2023-09    139\n",
      "2023-10    487\n",
      "2023-11    457\n",
      "2023-12    402\n",
      "Freq: M, Name: Month, dtype: int64\n"
     ]
    }
   ],
   "source": [
    "#  Interactions over time\n",
    "df['Month'] = df['Time stamp'].dt.to_period('M')\n",
    "interactions_over_time = df['Month'].value_counts().sort_index()\n",
    "print(\"\\nInteractions Over Time:\")\n",
    "print(interactions_over_time)"
   ]
  },
  {
   "cell_type": "code",
   "execution_count": 33,
   "id": "1a879633",
   "metadata": {},
   "outputs": [
    {
     "name": "stdout",
     "output_type": "stream",
     "text": [
      "\n",
      "Interaction Type Distribution:\n",
      "like        1145\n",
      "view         870\n",
      "purchase     854\n",
      "Unknown      128\n",
      "Name: Interaction type, dtype: int64\n"
     ]
    }
   ],
   "source": [
    "\n",
    "# Distribution of interaction types\n",
    "interaction_type_distribution = df['Interaction type'].value_counts()\n",
    "print(\"\\nInteraction Type Distribution:\")\n",
    "print(interaction_type_distribution)"
   ]
  },
  {
   "cell_type": "code",
   "execution_count": 34,
   "id": "89c932f9",
   "metadata": {},
   "outputs": [
    {
     "name": "stdout",
     "output_type": "stream",
     "text": [
      "\n",
      "Daily Interactions:\n",
      "2022-12-28    18\n",
      "2022-12-29    18\n",
      "2022-12-30    18\n",
      "2022-12-31    18\n",
      "2023-01-01    36\n",
      "              ..\n",
      "2023-12-24    18\n",
      "2023-12-25    18\n",
      "2023-12-26    18\n",
      "2023-12-27    18\n",
      "2023-12-28    18\n",
      "Name: Date, Length: 365, dtype: int64\n"
     ]
    }
   ],
   "source": [
    "# Daily interactions\n",
    "df['Date'] = df['Time stamp'].dt.date\n",
    "daily_interactions = df['Date'].value_counts().sort_index()\n",
    "print(\"\\nDaily Interactions:\")\n",
    "print(daily_interactions)"
   ]
  },
  {
   "cell_type": "code",
   "execution_count": 35,
   "id": "549312ac",
   "metadata": {},
   "outputs": [
    {
     "name": "stdout",
     "output_type": "stream",
     "text": [
      "\n",
      "User Activity (Number of interactions per user):\n",
      "3.0       1\n",
      "2005.0    1\n",
      "1996.0    1\n",
      "1997.0    1\n",
      "1998.0    1\n",
      "         ..\n",
      "1004.0    1\n",
      "1005.0    1\n",
      "1006.0    1\n",
      "1007.0    1\n",
      "2999.0    1\n",
      "Name: user id, Length: 2997, dtype: int64\n"
     ]
    }
   ],
   "source": [
    "# User activity analysis: Number of interactions per user\n",
    "user_activity = df['user id'].value_counts()\n",
    "print(\"\\nUser Activity (Number of interactions per user):\")\n",
    "print(user_activity)"
   ]
  },
  {
   "cell_type": "code",
   "execution_count": null,
   "id": "27235202",
   "metadata": {},
   "outputs": [],
   "source": []
  },
  {
   "cell_type": "code",
   "execution_count": null,
   "id": "ed8bbe86",
   "metadata": {},
   "outputs": [],
   "source": []
  }
 ],
 "metadata": {
  "kernelspec": {
   "display_name": "Python 3 (ipykernel)",
   "language": "python",
   "name": "python3"
  },
  "language_info": {
   "codemirror_mode": {
    "name": "ipython",
    "version": 3
   },
   "file_extension": ".py",
   "mimetype": "text/x-python",
   "name": "python",
   "nbconvert_exporter": "python",
   "pygments_lexer": "ipython3",
   "version": "3.9.13"
  }
 },
 "nbformat": 4,
 "nbformat_minor": 5
}
